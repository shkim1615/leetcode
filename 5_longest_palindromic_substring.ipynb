{
 "cells": [
  {
   "cell_type": "code",
   "execution_count": 47,
   "metadata": {},
   "outputs": [],
   "source": [
    "class Solution:\n",
    "    def longestPalindrome(self, s: str) -> str:\n",
    "        ans = \"\"\n",
    "        matrix = [[0]*(len(s) + 1) for _ in range(len(s) + 1)]\n",
    "        \n",
    "        idx = 1\n",
    "        for a in s:\n",
    "            matrix[0][idx] = a\n",
    "            matrix[idx][0] = a\n",
    "            idx = idx + 1\n",
    "            \n",
    "        for mat in matrix:\n",
    "            print(mat)    \n",
    "        \n",
    "        return ans\n",
    "    \n",
    "test = Solution()"
   ]
  },
  {
   "cell_type": "code",
   "execution_count": 48,
   "metadata": {},
   "outputs": [
    {
     "name": "stdout",
     "output_type": "stream",
     "text": [
      "[0, 'b', 'a', 'b', 'a', 'd']\n",
      "['b', 0, 0, 0, 0, 0]\n",
      "['a', 0, 0, 0, 0, 0]\n",
      "['b', 0, 0, 0, 0, 0]\n",
      "['a', 0, 0, 0, 0, 0]\n",
      "['d', 0, 0, 0, 0, 0]\n",
      "\n"
     ]
    }
   ],
   "source": [
    "s = \"babad\"\n",
    "print(test.longestPalindrome(s))"
   ]
  },
  {
   "cell_type": "code",
   "execution_count": null,
   "metadata": {},
   "outputs": [],
   "source": [
    "s = \"cbbd\""
   ]
  },
  {
   "cell_type": "code",
   "execution_count": 72,
   "metadata": {},
   "outputs": [],
   "source": [
    "class Solution:\n",
    "    def longestPalindrome(self, s: str) -> str:\n",
    "        if len(s) == 1:\n",
    "            return s\n",
    "        max_length = 0\n",
    "        idx_s, idx_e = 0,0\n",
    "        for i in range(len(s)):\n",
    "            middle = i\n",
    "            start, end = i-1, i+1\n",
    "            while start >= 0 and end < len(s):\n",
    "                if s[start] == s[end] :\n",
    "                    length = len(s[start:end+1])\n",
    "                    if max_length < length:\n",
    "                        max_length = length\n",
    "                        idx_s, idx_e = start, end\n",
    "                    start = start -1\n",
    "                    end = end + 1\n",
    "                elif s[middle] == s[end]:\n",
    "                    length = len(s[middle:end])\n",
    "                    end = end + 1\n",
    "                    if max_length < length:\n",
    "                        if max_length < length:\n",
    "                            max_length = length\n",
    "                            idx_s, idx_e = middle, middle+1\n",
    "        \n",
    "        print(idx_s, idx_e)\n",
    "        return s[idx_s:idx_e+1]\n",
    "    \n",
    "test1 = Solution()"
   ]
  },
  {
   "cell_type": "code",
   "execution_count": 73,
   "metadata": {},
   "outputs": [
    {
     "name": "stdout",
     "output_type": "stream",
     "text": [
      "0 2\n",
      "aaa\n"
     ]
    }
   ],
   "source": [
    "s = \"aaaa\"\n",
    "print(test1.longestPalindrome(s))"
   ]
  },
  {
   "cell_type": "code",
   "execution_count": 118,
   "metadata": {},
   "outputs": [],
   "source": [
    "class Solution:\n",
    "    def longestPalindrome(self, s: str) -> str:\n",
    "        if len(s) == 1:\n",
    "            return s\n",
    "        \n",
    "        max_length = 0\n",
    "        idx_s, idx_e = 0,0\n",
    "        for i in range(len(s)):\n",
    "            start, end = i-1, i+1\n",
    "            while start >= 0 and end < len(s):\n",
    "                if s[start] == s[end] :\n",
    "                    length = len(s[start:end+1])\n",
    "                    if max_length < length:\n",
    "                        max_length = length\n",
    "                        idx_s, idx_e = start, end\n",
    "                else:\n",
    "                    break\n",
    "                start = start -1\n",
    "                end = end + 1\n",
    "            \n",
    "            start, end = i, i+1\n",
    "            while start >= 0 and end < len(s):\n",
    "                if s[start] == s[end]:\n",
    "                    length = len(s[start:end+1])\n",
    "                    if max_length < length:\n",
    "                        max_length = length\n",
    "                        idx_s, idx_e = start, end\n",
    "                else:\n",
    "                    break\n",
    "                end = end + 1\n",
    "                start = start -1\n",
    "        \n",
    "        print(idx_s, idx_e)\n",
    "        return s[idx_s:idx_e+1]\n",
    "    \n",
    "test2 = Solution()"
   ]
  },
  {
   "cell_type": "code",
   "execution_count": 119,
   "metadata": {},
   "outputs": [],
   "source": [
    "s = \"abababababababababababababababababababababababababababababababababababababababababababababababababababababababababababababababababababababababababababababababababababababababababababababababababababababababababababababababababababababababababababababababababababababababababababababababababababababababababababababababababababababababababababababababababababababababababababababababababababababababababababababababababababababababababababababababababababababababababababababababababababababababababababababababababababababababababababababababababababababababababababababababababababababababababababababababababababababababababababababababababababababababababababababababababababababababababababababababababababababababababababababababababababababababababababababababababababababababababababababababababababababababababababababababababababababababababababababababababababababababababababababababababababababababababababababababababababababababababababababababababababababababababababababababababababa\""
   ]
  },
  {
   "cell_type": "code",
   "execution_count": 120,
   "metadata": {},
   "outputs": [
    {
     "name": "stdout",
     "output_type": "stream",
     "text": [
      "0 998\n",
      "abababababababababababababababababababababababababababababababababababababababababababababababababababababababababababababababababababababababababababababababababababababababababababababababababababababababababababababababababababababababababababababababababababababababababababababababababababababababababababababababababababababababababababababababababababababababababababababababababababababababababababababababababababababababababababababababababababababababababababababababababababababababababababababababababababababababababababababababababababababababababababababababababababababababababababababababababababababababababababababababababababababababababababababababababababababababababababababababababababababababababababababababababababababababababababababababababababababababababababababababababababababababababababababababababababababababababababababababababababababababababababababababababababababababababababababababababababababababababababababababababababababababababababababababababababa\n"
     ]
    }
   ],
   "source": [
    "print(test2.longestPalindrome(s))"
   ]
  },
  {
   "cell_type": "code",
   "execution_count": 115,
   "metadata": {},
   "outputs": [
    {
     "name": "stdout",
     "output_type": "stream",
     "text": [
      "0\n",
      "\n",
      "1\n",
      "tat\n",
      "\n",
      "2\n",
      "even:tt\n",
      "even:atta\n",
      "\n",
      "3\n",
      "\n",
      "4\n",
      "\n",
      "5\n",
      "even:rr\n",
      "even:arra\n",
      "even:tarrat\n",
      "even:ttarratt\n",
      "even:attarratta\n",
      "even:tattarrattat\n",
      "\n",
      "6\n",
      "\n",
      "7\n",
      "\n",
      "8\n",
      "even:tt\n",
      "even:atta\n",
      "\n",
      "9\n",
      "\n",
      "10\n",
      "tat\n",
      "\n",
      "11\n",
      "\n",
      "0 11\n",
      "tattarrattat\n"
     ]
    }
   ],
   "source": [
    "s = \"tattarrattat\"\n",
    "print(test2.longestPalindrome(s))"
   ]
  },
  {
   "cell_type": "code",
   "execution_count": 108,
   "metadata": {},
   "outputs": [
    {
     "name": "stdout",
     "output_type": "stream",
     "text": [
      "r, 6\n"
     ]
    }
   ],
   "source": [
    "ans = \"tattarrattat\"\n",
    "print(f\"{ans[len(ans)//2]}, {len(ans)//2}\")"
   ]
  },
  {
   "cell_type": "code",
   "execution_count": null,
   "metadata": {},
   "outputs": [],
   "source": []
  }
 ],
 "metadata": {
  "kernelspec": {
   "display_name": "base",
   "language": "python",
   "name": "python3"
  },
  "language_info": {
   "codemirror_mode": {
    "name": "ipython",
    "version": 3
   },
   "file_extension": ".py",
   "mimetype": "text/x-python",
   "name": "python",
   "nbconvert_exporter": "python",
   "pygments_lexer": "ipython3",
   "version": "3.12.7"
  }
 },
 "nbformat": 4,
 "nbformat_minor": 2
}
