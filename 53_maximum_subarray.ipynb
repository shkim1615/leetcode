{
 "cells": [
  {
   "cell_type": "code",
   "execution_count": null,
   "metadata": {},
   "outputs": [],
   "source": [
    "\n",
    "def maxSubArray(nums):\n",
    "    def max_sum(nums, start, end):\n",
    "        if start == end:\n",
    "            return nums[start]\n",
    "        mid = (start + end) // 2\n",
    "        left_sum = max_sum(nums, start, mid)\n",
    "        right_sum = max_sum(nums, mid + 1, end)\n",
    "        \n",
    "        left_mid = nums[mid]\n",
    "        temp = 0\n",
    "        for i in range(mid, start-1, -1):\n",
    "            temp = temp + nums[i]\n",
    "            left_mid = max(left_mid, temp)\n",
    "            \n",
    "        right_mid = nums[mid+1]\n",
    "        temp = 0\n",
    "        for i in range(mid+1, end+1, 1):\n",
    "            temp = temp + nums[i]\n",
    "            right_mid = max(right_mid, temp)\n",
    "            \n",
    "        mid_sum = left_mid + right_mid\n",
    "        \n",
    "        return max(left_sum, right_sum, mid_sum)\n",
    "    \n",
    "    start = 0\n",
    "    end = len(nums) - 1\n",
    "    return max_sum(nums, start, end)"
   ]
  },
  {
   "cell_type": "code",
   "execution_count": null,
   "metadata": {},
   "outputs": [],
   "source": [
    "def max_SubArray(nums):\n",
    "    res = float('-inf')\n",
    "    cur_sum = float('-inf')\n",
    "    for num in nums:\n",
    "        if cur_sum+num<num:\n",
    "            cur_sum = num\n",
    "        else:\n",
    "            cur_sum+=num\n",
    "        res = max(res,cur_sum)\n",
    "    return res"
   ]
  }
 ],
 "metadata": {
  "kernelspec": {
   "display_name": "leetcode",
   "language": "python",
   "name": "python3"
  },
  "language_info": {
   "name": "python",
   "version": "3.12.8"
  }
 },
 "nbformat": 4,
 "nbformat_minor": 2
}
