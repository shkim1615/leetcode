{
 "cells": [
  {
   "cell_type": "code",
   "execution_count": null,
   "metadata": {},
   "outputs": [],
   "source": [
    "from typing import List\n",
    "\n",
    "class Solution:\n",
    "    def displayTable(self, orders: List[List[str]]) -> List[List[str]]:\n",
    "        display_table = []\n",
    "        food_name = []\n",
    "        table = []\n",
    "        for order in orders:\n",
    "            if order[2] not in food_name:\n",
    "                food_name.append(order[2])\n",
    "            if order[1] not in table:\n",
    "                table.append(order[1])\n",
    "\n",
    "        food_nums = len(food_name)\n",
    "        display_table.append('Table')\n",
    "        food_name.sort()\n",
    "        display_table = display_table + food_name\n",
    "        \n",
    "        idx = display_table.index(orders[0][2])\n",
    "        print(idx)\n",
    "        \n",
    "        return display_table\n",
    "    \n",
    "test = Solution()\n"
   ]
  },
  {
   "cell_type": "code",
   "execution_count": 22,
   "metadata": {},
   "outputs": [],
   "source": [
    "orders = [[\"David\",\"3\",\"Ceviche\"],[\"Corina\",\"10\",\"Beef Burrito\"],[\"David\",\"3\",\"Fried Chicken\"],[\"Carla\",\"5\",\"Water\"],[\"Carla\",\"5\",\"Ceviche\"],[\"Rous\",\"3\",\"Ceviche\"]]\n"
   ]
  },
  {
   "cell_type": "code",
   "execution_count": null,
   "metadata": {},
   "outputs": [
    {
     "name": "stdout",
     "output_type": "stream",
     "text": [
      "2\n",
      "['Table', 'Beef Burrito', 'Ceviche', 'Fried Chicken', 'Water']\n",
      "Table\n",
      "Beef Burrito\n",
      "Ceviche\n",
      "Fried Chicken\n",
      "Water\n"
     ]
    }
   ],
   "source": [
    "display_table = test.displayTable(orders)\n",
    "print(display_table)\n",
    "for t in display_table:\n",
    "    print(t)"
   ]
  },
  {
   "cell_type": "code",
   "execution_count": 20,
   "metadata": {},
   "outputs": [
    {
     "name": "stdout",
     "output_type": "stream",
     "text": [
      "['Table', 'Beef Burrito', 'Ceviche', 'Fried Chicken', 'Water']\n",
      "['3', '0', '2', '1', '0']\n",
      "['5', '0', '1', '0', '1']\n",
      "['10', '1', '0', '0', '0']\n"
     ]
    }
   ],
   "source": [
    "temp = [[\"Table\",\"Beef Burrito\",\"Ceviche\",\"Fried Chicken\",\"Water\"],[\"3\",\"0\",\"2\",\"1\",\"0\"],[\"5\",\"0\",\"1\",\"0\",\"1\"],[\"10\",\"1\",\"0\",\"0\",\"0\"]]\n",
    "for tem in temp:\n",
    "    print(tem)"
   ]
  }
 ],
 "metadata": {
  "kernelspec": {
   "display_name": "base",
   "language": "python",
   "name": "python3"
  },
  "language_info": {
   "codemirror_mode": {
    "name": "ipython",
    "version": 3
   },
   "file_extension": ".py",
   "mimetype": "text/x-python",
   "name": "python",
   "nbconvert_exporter": "python",
   "pygments_lexer": "ipython3",
   "version": "3.12.7"
  }
 },
 "nbformat": 4,
 "nbformat_minor": 2
}
