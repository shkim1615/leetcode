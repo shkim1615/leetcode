{
 "cells": [
  {
   "cell_type": "markdown",
   "metadata": {},
   "source": [
    "1. 삽입\n",
    "2. 삭제\n",
    "3. 대체"
   ]
  },
  {
   "cell_type": "code",
   "execution_count": 9,
   "metadata": {},
   "outputs": [],
   "source": [
    "word1 = \"intention\"\n",
    "word2 = \"execution\""
   ]
  },
  {
   "cell_type": "code",
   "execution_count": 29,
   "metadata": {},
   "outputs": [],
   "source": [
    "word1 = \"horse\"\n",
    "word2 = \"ros\""
   ]
  },
  {
   "cell_type": "code",
   "execution_count": 3,
   "metadata": {},
   "outputs": [
    {
     "name": "stdout",
     "output_type": "stream",
     "text": [
      "2\n"
     ]
    }
   ],
   "source": [
    "print(word1.index(\"t\"))"
   ]
  },
  {
   "cell_type": "code",
   "execution_count": 32,
   "metadata": {},
   "outputs": [
    {
     "name": "stdout",
     "output_type": "stream",
     "text": [
      "horse\n",
      "ros\n",
      "5 3\n",
      "[['r', [2]], ['o', [1]], ['s', [3]]]\n",
      "작업 후 [['r', -1], ['o', 1], ['s', 3]]\n",
      "2\n"
     ]
    }
   ],
   "source": [
    "def minDistance(word1, word2):\n",
    "    print(word1)\n",
    "    print(word2)\n",
    "    # 예외 처리(1글자 이하)\n",
    "    if len(word2) == 0:\n",
    "        return len(word1)\n",
    "    elif len(word2) == 1:\n",
    "        if word2 in word1:\n",
    "            return len(word1) - 1\n",
    "        else:\n",
    "            return len(word1)\n",
    "    \n",
    "    check_alpha = [[alpha, []] for alpha in word2]\n",
    "    print(len(word1), len(word2))\n",
    "\n",
    "    for i in range(len(word1)):\n",
    "        if word1[i] in word2:\n",
    "            for j in range(len(check_alpha)):\n",
    "                if word1[i] == check_alpha[j][0]:\n",
    "                    check_alpha[j][1].append(i)\n",
    "    print(check_alpha)\n",
    "    \n",
    "    # 3, 5,6,7,8\n",
    "    # 0,1,2 replace / 4 remove / 4 insert\n",
    "    \n",
    "    # check_alpha = [item for item in check_alpha if item[1]]\n",
    "    \n",
    "    # 먼저 남길 것을 정해야 함. \n",
    "    check_idx = 501\n",
    "                \n",
    "    for i in range(len(check_alpha) - 1, -1, -1):\n",
    "        if check_alpha[i][1] != []:\n",
    "            if min(check_alpha[i][1]) < check_idx:\n",
    "                check_idx = check_alpha[i][1] = max(filter(lambda x:x<10, check_alpha[i][1]))\n",
    "            else:\n",
    "                check_alpha[i][1] = -1\n",
    "        else:\n",
    "            check_alpha[i][1] = -1\n",
    "            \n",
    "    print(\"작업 후\", check_alpha)\n",
    "    \n",
    "    for i in range(len(check_alpha)):\n",
    "        pass\n",
    "    \n",
    "    return len(word1) - len(check_alpha)\n",
    "        \n",
    "print(minDistance(word1, word2))"
   ]
  },
  {
   "cell_type": "code",
   "execution_count": null,
   "metadata": {},
   "outputs": [],
   "source": [
    "# 최적의 장소 찾기?\n",
    "def minDistance(word1, word2):\n",
    "    m = len(word1)\n",
    "    n = len(word2)\n",
    "    \n",
    "    dp = [[0] * (n + 1) for _ in range(m + 1)]\n",
    "\n",
    "    for i in range(1, m + 1):\n",
    "        dp[i][0] = i\n",
    "\n",
    "    for j in range(1, n + 1):\n",
    "        dp[0][j] = j\n",
    "\n",
    "    for i in range(1, m + 1):\n",
    "        for j in range(1, n + 1):\n",
    "            if word1[i - 1] == word2[j - 1]:\n",
    "                dp[i][j] = dp[i - 1][j - 1]\n",
    "            else:\n",
    "                dp[i][j] = min(dp[i - 1][j - 1], dp[i - 1][j], dp[i][j - 1]) + 1\n",
    "\n",
    "    return dp[m][n]"
   ]
  }
 ],
 "metadata": {
  "kernelspec": {
   "display_name": "leetcode",
   "language": "python",
   "name": "python3"
  },
  "language_info": {
   "codemirror_mode": {
    "name": "ipython",
    "version": 3
   },
   "file_extension": ".py",
   "mimetype": "text/x-python",
   "name": "python",
   "nbconvert_exporter": "python",
   "pygments_lexer": "ipython3",
   "version": "3.12.8"
  }
 },
 "nbformat": 4,
 "nbformat_minor": 2
}
